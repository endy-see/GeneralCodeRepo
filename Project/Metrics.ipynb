{
 "cells": [
  {
   "cell_type": "code",
   "execution_count": 2,
   "id": "d6c9179a",
   "metadata": {},
   "outputs": [
    {
     "name": "stdout",
     "output_type": "stream",
     "text": [
      "Collecting peft\n",
      "  Downloading peft-0.12.0-py3-none-any.whl.metadata (13 kB)\n",
      "Collecting bitsandbytes\n",
      "  Downloading bitsandbytes-0.43.3-py3-none-manylinux_2_24_x86_64.whl.metadata (3.5 kB)\n",
      "Collecting easydict\n",
      "  Downloading easydict-1.13-py3-none-any.whl.metadata (4.2 kB)\n",
      "Requirement already satisfied: numpy>=1.17 in /opt/conda/envs/ptca/lib/python3.8/site-packages (from peft) (1.24.4)\n",
      "Requirement already satisfied: packaging>=20.0 in /opt/conda/envs/ptca/lib/python3.8/site-packages (from peft) (23.2)\n",
      "Requirement already satisfied: psutil in /opt/conda/envs/ptca/lib/python3.8/site-packages (from peft) (5.9.8)\n",
      "Requirement already satisfied: pyyaml in /opt/conda/envs/ptca/lib/python3.8/site-packages (from peft) (6.0.1)\n",
      "Requirement already satisfied: torch>=1.13.0 in /opt/conda/envs/ptca/lib/python3.8/site-packages (from peft) (1.13.1)\n",
      "Collecting transformers (from peft)\n",
      "  Downloading transformers-4.44.2-py3-none-any.whl.metadata (43 kB)\n",
      "\u001b[2K     \u001b[90m━━━━━━━━━━━━━━━━━━━━━━━━━━━━━━━━━━━━━━━━\u001b[0m \u001b[32m43.7/43.7 kB\u001b[0m \u001b[31m4.7 MB/s\u001b[0m eta \u001b[36m0:00:00\u001b[0m\n",
      "\u001b[?25hRequirement already satisfied: tqdm in /opt/conda/envs/ptca/lib/python3.8/site-packages (from peft) (4.66.5)\n",
      "Collecting accelerate>=0.21.0 (from peft)\n",
      "  Downloading accelerate-0.33.0-py3-none-any.whl.metadata (18 kB)\n",
      "Collecting safetensors (from peft)\n",
      "  Downloading safetensors-0.4.4-cp38-cp38-manylinux_2_17_x86_64.manylinux2014_x86_64.whl.metadata (3.8 kB)\n",
      "Requirement already satisfied: huggingface-hub>=0.17.0 in /opt/conda/envs/ptca/lib/python3.8/site-packages (from peft) (0.24.6)\n",
      "Requirement already satisfied: filelock in /opt/conda/envs/ptca/lib/python3.8/site-packages (from huggingface-hub>=0.17.0->peft) (3.15.4)\n",
      "Requirement already satisfied: fsspec>=2023.5.0 in /opt/conda/envs/ptca/lib/python3.8/site-packages (from huggingface-hub>=0.17.0->peft) (2024.2.0)\n",
      "Requirement already satisfied: requests in /opt/conda/envs/ptca/lib/python3.8/site-packages (from huggingface-hub>=0.17.0->peft) (2.32.3)\n",
      "Requirement already satisfied: typing-extensions>=3.7.4.3 in /opt/conda/envs/ptca/lib/python3.8/site-packages (from huggingface-hub>=0.17.0->peft) (4.12.2)\n",
      "Collecting regex!=2019.12.17 (from transformers->peft)\n",
      "  Downloading regex-2024.7.24-cp38-cp38-manylinux_2_17_x86_64.manylinux2014_x86_64.whl.metadata (40 kB)\n",
      "\u001b[2K     \u001b[90m━━━━━━━━━━━━━━━━━━━━━━━━━━━━━━━━━━━━━━━━\u001b[0m \u001b[32m40.5/40.5 kB\u001b[0m \u001b[31m12.4 MB/s\u001b[0m eta \u001b[36m0:00:00\u001b[0m\n",
      "\u001b[?25hCollecting tokenizers<0.20,>=0.19 (from transformers->peft)\n",
      "  Downloading tokenizers-0.19.1-cp38-cp38-manylinux_2_17_x86_64.manylinux2014_x86_64.whl.metadata (6.7 kB)\n",
      "Requirement already satisfied: charset-normalizer<4,>=2 in /opt/conda/envs/ptca/lib/python3.8/site-packages (from requests->huggingface-hub>=0.17.0->peft) (3.3.2)\n",
      "Requirement already satisfied: idna<4,>=2.5 in /opt/conda/envs/ptca/lib/python3.8/site-packages (from requests->huggingface-hub>=0.17.0->peft) (3.6)\n",
      "Requirement already satisfied: urllib3<3,>=1.21.1 in /opt/conda/envs/ptca/lib/python3.8/site-packages (from requests->huggingface-hub>=0.17.0->peft) (2.2.1)\n",
      "Requirement already satisfied: certifi>=2017.4.17 in /opt/conda/envs/ptca/lib/python3.8/site-packages (from requests->huggingface-hub>=0.17.0->peft) (2024.2.2)\n",
      "Downloading peft-0.12.0-py3-none-any.whl (296 kB)\n",
      "\u001b[2K   \u001b[90m━━━━━━━━━━━━━━━━━━━━━━━━━━━━━━━━━━━━━━━━\u001b[0m \u001b[32m296.4/296.4 kB\u001b[0m \u001b[31m25.8 MB/s\u001b[0m eta \u001b[36m0:00:00\u001b[0m\n",
      "\u001b[?25hDownloading bitsandbytes-0.43.3-py3-none-manylinux_2_24_x86_64.whl (137.5 MB)\n",
      "\u001b[2K   \u001b[90m━━━━━━━━━━━━━━━━━━━━━━━━━━━━━━━━━━━━━━━━\u001b[0m \u001b[32m137.5/137.5 MB\u001b[0m \u001b[31m54.5 MB/s\u001b[0m eta \u001b[36m0:00:00\u001b[0m00:01\u001b[0m00:01\u001b[0m\n",
      "\u001b[?25hDownloading easydict-1.13-py3-none-any.whl (6.8 kB)\n",
      "Downloading accelerate-0.33.0-py3-none-any.whl (315 kB)\n",
      "\u001b[2K   \u001b[90m━━━━━━━━━━━━━━━━━━━━━━━━━━━━━━━━━━━━━━━━\u001b[0m \u001b[32m315.1/315.1 kB\u001b[0m \u001b[31m80.9 MB/s\u001b[0m eta \u001b[36m0:00:00\u001b[0m\n",
      "\u001b[?25hDownloading safetensors-0.4.4-cp38-cp38-manylinux_2_17_x86_64.manylinux2014_x86_64.whl (436 kB)\n",
      "\u001b[2K   \u001b[90m━━━━━━━━━━━━━━━━━━━━━━━━━━━━━━━━━━━━━━━━\u001b[0m \u001b[32m436.3/436.3 kB\u001b[0m \u001b[31m96.5 MB/s\u001b[0m eta \u001b[36m0:00:00\u001b[0m\n",
      "\u001b[?25hDownloading transformers-4.44.2-py3-none-any.whl (9.5 MB)\n",
      "\u001b[2K   \u001b[90m━━━━━━━━━━━━━━━━━━━━━━━━━━━━━━━━━━━━━━━━\u001b[0m \u001b[32m9.5/9.5 MB\u001b[0m \u001b[31m167.1 MB/s\u001b[0m eta \u001b[36m0:00:00\u001b[0ma \u001b[36m0:00:01\u001b[0m\n",
      "\u001b[?25hDownloading regex-2024.7.24-cp38-cp38-manylinux_2_17_x86_64.manylinux2014_x86_64.whl (778 kB)\n",
      "\u001b[2K   \u001b[90m━━━━━━━━━━━━━━━━━━━━━━━━━━━━━━━━━━━━━━━\u001b[0m \u001b[32m778.9/778.9 kB\u001b[0m \u001b[31m127.0 MB/s\u001b[0m eta \u001b[36m0:00:00\u001b[0m\n",
      "\u001b[?25hDownloading tokenizers-0.19.1-cp38-cp38-manylinux_2_17_x86_64.manylinux2014_x86_64.whl (3.6 MB)\n",
      "\u001b[2K   \u001b[90m━━━━━━━━━━━━━━━━━━━━━━━━━━━━━━━━━━━━━━━━\u001b[0m \u001b[32m3.6/3.6 MB\u001b[0m \u001b[31m166.8 MB/s\u001b[0m eta \u001b[36m0:00:00\u001b[0m\n",
      "\u001b[?25hInstalling collected packages: easydict, safetensors, regex, bitsandbytes, tokenizers, accelerate, transformers, peft\n",
      "Successfully installed accelerate-0.33.0 bitsandbytes-0.43.3 easydict-1.13 peft-0.12.0 regex-2024.7.24 safetensors-0.4.4 tokenizers-0.19.1 transformers-4.44.2\n",
      "Collecting scikit-learn\n",
      "  Downloading scikit_learn-1.3.2-cp38-cp38-manylinux_2_17_x86_64.manylinux2014_x86_64.whl.metadata (11 kB)\n",
      "Requirement already satisfied: numpy<2.0,>=1.17.3 in /opt/conda/envs/ptca/lib/python3.8/site-packages (from scikit-learn) (1.24.4)\n",
      "Requirement already satisfied: scipy>=1.5.0 in /opt/conda/envs/ptca/lib/python3.8/site-packages (from scikit-learn) (1.10.1)\n",
      "Collecting joblib>=1.1.1 (from scikit-learn)\n",
      "  Downloading joblib-1.4.2-py3-none-any.whl.metadata (5.4 kB)\n",
      "Collecting threadpoolctl>=2.0.0 (from scikit-learn)\n",
      "  Downloading threadpoolctl-3.5.0-py3-none-any.whl.metadata (13 kB)\n",
      "Downloading scikit_learn-1.3.2-cp38-cp38-manylinux_2_17_x86_64.manylinux2014_x86_64.whl (11.1 MB)\n",
      "\u001b[2K   \u001b[90m━━━━━━━━━━━━━━━━━━━━━━━━━━━━━━━━━━━━━━━━\u001b[0m \u001b[32m11.1/11.1 MB\u001b[0m \u001b[31m159.1 MB/s\u001b[0m eta \u001b[36m0:00:00\u001b[0ma \u001b[36m0:00:01\u001b[0m\n",
      "\u001b[?25hDownloading joblib-1.4.2-py3-none-any.whl (301 kB)\n",
      "\u001b[2K   \u001b[90m━━━━━━━━━━━━━━━━━━━━━━━━━━━━━━━━━━━━━━━━\u001b[0m \u001b[32m301.8/301.8 kB\u001b[0m \u001b[31m81.3 MB/s\u001b[0m eta \u001b[36m0:00:00\u001b[0m\n",
      "\u001b[?25hDownloading threadpoolctl-3.5.0-py3-none-any.whl (18 kB)\n",
      "Installing collected packages: threadpoolctl, joblib, scikit-learn\n",
      "Successfully installed joblib-1.4.2 scikit-learn-1.3.2 threadpoolctl-3.5.0\n",
      "Requirement already satisfied: pandas in /opt/conda/envs/ptca/lib/python3.8/site-packages (2.0.3)\n",
      "Requirement already satisfied: pyarrow in /opt/conda/envs/ptca/lib/python3.8/site-packages (17.0.0)\n",
      "Requirement already satisfied: python-dateutil>=2.8.2 in /opt/conda/envs/ptca/lib/python3.8/site-packages (from pandas) (2.9.0)\n",
      "Requirement already satisfied: pytz>=2020.1 in /opt/conda/envs/ptca/lib/python3.8/site-packages (from pandas) (2024.1)\n",
      "Requirement already satisfied: tzdata>=2022.1 in /opt/conda/envs/ptca/lib/python3.8/site-packages (from pandas) (2024.1)\n",
      "Requirement already satisfied: numpy>=1.20.3 in /opt/conda/envs/ptca/lib/python3.8/site-packages (from pandas) (1.24.4)\n",
      "Requirement already satisfied: six>=1.5 in /opt/conda/envs/ptca/lib/python3.8/site-packages (from python-dateutil>=2.8.2->pandas) (1.16.0)\n"
     ]
    }
   ],
   "source": [
    "!pip install -q -U datasets scipy ipywidgets\n",
    "!pip install peft bitsandbytes easydict\n",
    "!pip install scikit-learn \n",
    "!pip install pandas pyarrow"
   ]
  },
  {
   "cell_type": "code",
   "execution_count": 2,
   "id": "418ecdc6",
   "metadata": {},
   "outputs": [],
   "source": [
    "import pandas as pd\n",
    "import numpy as np\n",
    "\n",
    "from sklearn.metrics import precision_recall_curve\n",
    "import matplotlib.pyplot as plt\n",
    "\n",
    "from sklearn.metrics import average_precision_score"
   ]
  },
  {
   "cell_type": "markdown",
   "id": "46a72061",
   "metadata": {},
   "source": [
    "### Calculate metrics for CBSpam"
   ]
  },
  {
   "cell_type": "code",
   "execution_count": 58,
   "id": "df19611d",
   "metadata": {},
   "outputs": [
    {
     "name": "stdout",
     "output_type": "stream",
     "text": [
      "Threshold:  0.924168\n",
      "Fbeta:  0.048590278438887226\n",
      "auprc:  0.03523626686788559\n",
      "Precision:  0.03995485869330324\n",
      "Recall:  0.35864645448667287\n"
     ]
    }
   ],
   "source": [
    "# Single Spam model predictino result\n",
    "df = pd.read_csv(\"/cosmos/local/IndexQuality/FinetuneLLM/FullTrainTest/Mixtral_New_ym_spam_bs_10/PredictionResult_300.tsv\",sep=\"\\t\")\n",
    "df_spam = pd.read_csv(\"/cosmos/local/IndexQuality/ContentModels/DataAugmentation/data/CBSpam_v3/ModelTrainingData/EvaluationSets/FY24H2ForLLMMoreHtmlCoverage.tsv\", sep='\\t', header=None, names=['Url', 'Label', 'HostEmbedding', 'RIUrlEmbedding', 'HostFeatures', 'Index',  'IsEmpty', 'FullBody'])[[\"Url\",\"FullBody\",\"Label\"]]\n",
    "scrape_df = pd.merge(df_spam,df, on=[\"Url\",\"FullBody\"])\n",
    "scrape_df = scrape_df.drop_duplicates(ignore_index=True)\n",
    "scrape_df[\"PositiveProb\"] = scrape_df[[\"Prediction\",\"Probability\"]].apply(lambda x:1-x[\"Probability\"] if x[\"Prediction\"]==0 else x[\"Probability\"],axis=1)\n",
    "precision, recall, thresholds = precision_recall_curve(scrape_df[\"Label_x\"], scrape_df[\"PositiveProb\"])\n",
    "beta = 0.5\n",
    "fbeta = (1 + beta**2) * precision * recall / ((beta**2) * precision + recall + 0.00000000001)\n",
    "index = np.nanargmax(fbeta)\n",
    "\n",
    "print(\"Threshold: \",thresholds[index])\n",
    "print(\"Fbeta: \",fbeta[index])\n",
    "print('auprc: ', average_precision_score(scrape_df[\"Label_x\"], scrape_df[\"PositiveProb\"]))\n",
    "print(\"Precision: \",precision[index])\n",
    "print(\"Recall: \",recall[index])"
   ]
  },
  {
   "cell_type": "code",
   "execution_count": 35,
   "id": "a6a89d58",
   "metadata": {},
   "outputs": [
    {
     "name": "stdout",
     "output_type": "stream",
     "text": [
      "463794 2000\n"
     ]
    }
   ],
   "source": [
    "sample_df_spam = df_spam.sample(n=2000, random_state=32)\n",
    "sample_df_spam.to_csv(\"/cosmos/local/IndexQuality/ContentModels/DataAugmentation/data/CBSpam_v3/ModelTrainingData/EvaluationSets/FY24H2ForLLMMoreHtmlCoverage_sample2000.tsv\", sep='\\t', header=False, index=False)\n",
    "print(len(df_spam), len(sample_df_spam))"
   ]
  },
  {
   "cell_type": "code",
   "execution_count": 55,
   "id": "22910eb6",
   "metadata": {},
   "outputs": [
    {
     "data": {
      "text/plain": [
       "Index(['Url', 'FullBody', 'Label'], dtype='object')"
      ]
     },
     "execution_count": 55,
     "metadata": {},
     "output_type": "execute_result"
    }
   ],
   "source": [
    "sample_df_spam.columns"
   ]
  },
  {
   "cell_type": "code",
   "execution_count": 57,
   "id": "2ab45711",
   "metadata": {},
   "outputs": [
    {
     "name": "stdout",
     "output_type": "stream",
     "text": [
      "/cosmos/local/IndexQuality/FinetuneLLM/FullTrainTest/Mixtral_New_ym_spam_bs_10/PredictionResultSample2000_1200.tsv\n",
      "/cosmos/local/IndexQuality/FinetuneLLM/FullTrainTest/Mixtral_New_ym_spam_bs_10/PredictionResultSample2000_3900.tsv\n",
      "/cosmos/local/IndexQuality/FinetuneLLM/FullTrainTest/Mixtral_New_ym_spam_bs_10/PredictionResultSample2000_5400.tsv\n",
      "thresholds: [0.9661191, 0.9450216, 0.9709782, 0.9478389, 0.9747294, 0.9633261, 0.9635854, 0.9843579, 0.9827035, 0.9804324, 0.9907726, 0.99587935, 0.99808353, 0.9951688, 0.79258466, 0.2019318, 0.35341290000000003, 0.011436699999999966]\n",
      "fbeta: [0.0822122570955244, 0.06346025383881698, 0.06240249609504114, 0.056920311561829015, 0.0639999999950894, 0.05770816158017003, 0.046022353712496064, 0.06763787720790605, 0.06508875739270024, 0.08875739644595468, 0.061058344636191315, 0.07838745800315404, 0.0733944954073152, 0.060938452161301074, 0.4594594594477663, 0.4437869822364413, 0.4248366012948097, 0.41420118341987333]\n",
      "auprc: [0.04570827997081561, 0.04177820041156278, 0.04014849425228176, 0.039376541300516335, 0.038769722264774015, 0.03770609109502127, 0.03267583854121913, 0.04146814229261536, 0.04078388291783834, 0.04823208933012306, 0.03702133900944679, 0.04419167072914222, 0.040012575892061114, 0.0366863444827531, 0.26709716140384276, 0.18879917457031653, 0.17643167575815205, 0.17403904604173578]\n",
      "precision: [0.07333333333333333, 0.05322128851540616, 0.055944055944055944, 0.0475, 0.05755395683453238, 0.04895104895104895, 0.03856749311294766, 0.05829596412556054, 0.05670103092783505, 0.07731958762886598, 0.05389221556886228, 0.06796116504854369, 0.06722689075630252, 0.05089058524173028, 0.5862068965517241, 0.6, 0.6190476190476191, 0.56]\n",
      "recall: [0.15942028985507245, 0.2753623188405797, 0.11594202898550725, 0.2753623188405797, 0.11594202898550725, 0.2028985507246377, 0.2028985507246377, 0.18840579710144928, 0.15942028985507245, 0.21739130434782608, 0.13043478260869565, 0.2028985507246377, 0.11594202898550725, 0.2898550724637681, 0.2463768115942029, 0.21739130434782608, 0.18840579710144928, 0.2028985507246377]\n",
      "model_index: [1200, 1500, 1800, 2100, 2400, 2700, 3000, 3300, 3600, 3900, 4200, 4500, 4800, 5100, 5400, 5700, 6000, 6300]\n",
      "best_auprc: 0.26709716140384276\n",
      "best_auprc_index: 14\n",
      "best_precision: 0.5862068965517241\n",
      "best_recall: 0.2463768115942029\n",
      "best_thresholds: 0.79258466\n",
      "best_fbeta: 0.4594594594477663\n",
      "best_i: 5400\n"
     ]
    }
   ],
   "source": [
    "# Multiple Spam model prediction results\n",
    "import os\n",
    "threshold_list = []\n",
    "fbeta_list = []\n",
    "auprc_list = []\n",
    "precision_list = []\n",
    "recall_list = []\n",
    "index_list = []\n",
    "\n",
    "best_auprc = -1\n",
    "auprc_index = 0\n",
    "best_auprc_index = 0\n",
    "i_list = []\n",
    "\n",
    "df_spam = pd.read_csv(\"/cosmos/local/IndexQuality/ContentModels/DataAugmentation/data/CBSpam_v3/ModelTrainingData/EvaluationSets/FY24H2ForLLMMoreHtmlCoverage_sample2000.tsv\", sep='\\t', header=None, names=['Url', 'FullBody', 'Label'])\n",
    "for i in range(1200, 6400, 300):\n",
    "    # df = pd.read_csv(f\"/cosmos/local/IndexQuality/FinetuneLLM/FullTrainTest/Mixtral_7B_fulldata_finetuned_ym_bs_10/scrapekr1.2_spamllm2.4.parquet_{i}.tsv\",sep=\"\\t\")\n",
    "    target_file_path = f\"/cosmos/local/IndexQuality/FinetuneLLM/FullTrainTest/Mixtral_New_ym_spam_bs_10/PredictionResultSample2000_{i}.tsv\"\n",
    "    if not os.path.exists(target_file_path):\n",
    "        print(f'{target_file_path} does not exist!')\n",
    "        continue\n",
    "    df = pd.read_csv(target_file_path,sep=\"\\t\")\n",
    "    scrape_df = pd.merge(df_spam,df, on=[\"Url\",\"FullBody\"])\n",
    "    scrape_df = scrape_df.drop_duplicates(ignore_index=True)\n",
    "    scrape_df[\"PositiveProb\"] = scrape_df[[\"Prediction\",\"Probability\"]].apply(lambda x:1-x[\"Probability\"] if x[\"Prediction\"]==0 else x[\"Probability\"],axis=1)\n",
    "    precision, recall, thresholds = precision_recall_curve(scrape_df[\"Label_x\"], scrape_df[\"PositiveProb\"])\n",
    "    beta = 0.5\n",
    "    fbeta = (1 + beta**2) * precision * recall / ((beta**2) * precision + recall + 0.00000000001)\n",
    "    index = np.nanargmax(fbeta)\n",
    "    auprc = average_precision_score(scrape_df[\"Label_x\"], scrape_df[\"PositiveProb\"])\n",
    "    \n",
    "    # print('auprc: ', auprc, best_auprc)\n",
    "    if auprc >= best_auprc:\n",
    "        best_auprc = auprc\n",
    "        best_auprc_index = auprc_index\n",
    "        print(target_file_path)\n",
    "    \n",
    "    threshold_list.append(thresholds[index])\n",
    "    fbeta_list.append(fbeta[index])\n",
    "    auprc_list.append(auprc)\n",
    "    precision_list.append(precision[index])\n",
    "    recall_list.append(recall[index])\n",
    "    index_list.append(i)\n",
    "    i_list.append(i)\n",
    "    auprc_index += 1\n",
    "\n",
    "print(f'thresholds: {threshold_list}')\n",
    "print(f'fbeta: {fbeta_list}')\n",
    "print(f'auprc: {auprc_list}')\n",
    "print(f'precision: {precision_list}')\n",
    "print(f'recall: {recall_list}')\n",
    "print(f'model_index: {index_list}')\n",
    "\n",
    "print(f'best_auprc: {best_auprc}')\n",
    "print(f'best_auprc_index: {best_auprc_index}')\n",
    "print(f'best_precision: {precision_list[best_auprc_index]}')\n",
    "print(f'best_recall: {recall_list[best_auprc_index]}')\n",
    "print(f'best_thresholds: {threshold_list[best_auprc_index]}')\n",
    "print(f'best_fbeta: {fbeta_list[best_auprc_index]}')  \n",
    "print(f'best_i: {i_list[best_auprc_index]}')   \n"
   ]
  },
  {
   "cell_type": "code",
   "execution_count": 37,
   "id": "7d84b7f3",
   "metadata": {},
   "outputs": [
    {
     "data": {
      "text/html": [
       "<div>\n",
       "<style scoped>\n",
       "    .dataframe tbody tr th:only-of-type {\n",
       "        vertical-align: middle;\n",
       "    }\n",
       "\n",
       "    .dataframe tbody tr th {\n",
       "        vertical-align: top;\n",
       "    }\n",
       "\n",
       "    .dataframe thead th {\n",
       "        text-align: right;\n",
       "    }\n",
       "</style>\n",
       "<table border=\"1\" class=\"dataframe\">\n",
       "  <thead>\n",
       "    <tr style=\"text-align: right;\">\n",
       "      <th></th>\n",
       "      <th>Url</th>\n",
       "      <th>FullBody</th>\n",
       "      <th>Label</th>\n",
       "    </tr>\n",
       "  </thead>\n",
       "  <tbody>\n",
       "    <tr>\n",
       "      <th>159469</th>\n",
       "      <td>https://apps.apple.com/es/app/g2a/id895515193</td>\n",
       "      <td>‎G2A en App Store Lee reseñas, compara valorac...</td>\n",
       "      <td>0</td>\n",
       "    </tr>\n",
       "    <tr>\n",
       "      <th>52063</th>\n",
       "      <td>https://eventfinder.de/veranstaltungsort/94499...</td>\n",
       "      <td>Veranstaltungen Kurhaus Bad Aibling - Großer K...</td>\n",
       "      <td>0</td>\n",
       "    </tr>\n",
       "    <tr>\n",
       "      <th>296524</th>\n",
       "      <td>https://elmundo.es/como/2023/04/19/643fdeb5fc6...</td>\n",
       "      <td>La curiosa historia detr�s de 19 d�as y 500 no...</td>\n",
       "      <td>0</td>\n",
       "    </tr>\n",
       "    <tr>\n",
       "      <th>332856</th>\n",
       "      <td>https://docs.framasoft.org/fr</td>\n",
       "      <td>Accueil · Documentation Framasoft Menu × Frama...</td>\n",
       "      <td>0</td>\n",
       "    </tr>\n",
       "    <tr>\n",
       "      <th>392095</th>\n",
       "      <td>https://apple.com/apple-events</td>\n",
       "      <td>Apple Events - Apple Apple Events Apple#TAB#St...</td>\n",
       "      <td>0</td>\n",
       "    </tr>\n",
       "    <tr>\n",
       "      <th>...</th>\n",
       "      <td>...</td>\n",
       "      <td>...</td>\n",
       "      <td>...</td>\n",
       "    </tr>\n",
       "    <tr>\n",
       "      <th>349459</th>\n",
       "      <td>https://news.republika.co.id/berita/rz2u0e330/...</td>\n",
       "      <td>Keluarga Brigadir J meminta Jaksa Agung bertin...</td>\n",
       "      <td>0</td>\n",
       "    </tr>\n",
       "    <tr>\n",
       "      <th>93374</th>\n",
       "      <td>https://placeandtest.highline.edu/placement/sm...</td>\n",
       "      <td>Smarter Balanced » Placement &amp; Testing Center ...</td>\n",
       "      <td>0</td>\n",
       "    </tr>\n",
       "    <tr>\n",
       "      <th>444813</th>\n",
       "      <td>https://jadwalsholat.org/adzan/monthly.php?id=14</td>\n",
       "      <td>&lt;html&gt;&lt;head&gt;&lt;/head&gt;&lt;body&gt;&lt;/body&gt;&lt;/html&gt;</td>\n",
       "      <td>0</td>\n",
       "    </tr>\n",
       "    <tr>\n",
       "      <th>16154</th>\n",
       "      <td>https://formation-diogene.com/le-syndrome-de-d...</td>\n",
       "      <td>Le Syndrome de Diogène - Comprendre et identif...</td>\n",
       "      <td>0</td>\n",
       "    </tr>\n",
       "    <tr>\n",
       "      <th>144926</th>\n",
       "      <td>https://vatcalculate.co.uk/383-plus-vat</td>\n",
       "      <td>What is £383 Plus VAT in UK? - Best VAT Calcul...</td>\n",
       "      <td>0</td>\n",
       "    </tr>\n",
       "  </tbody>\n",
       "</table>\n",
       "<p>2000 rows × 3 columns</p>\n",
       "</div>"
      ],
      "text/plain": [
       "                                                      Url  \\\n",
       "159469      https://apps.apple.com/es/app/g2a/id895515193   \n",
       "52063   https://eventfinder.de/veranstaltungsort/94499...   \n",
       "296524  https://elmundo.es/como/2023/04/19/643fdeb5fc6...   \n",
       "332856                      https://docs.framasoft.org/fr   \n",
       "392095                     https://apple.com/apple-events   \n",
       "...                                                   ...   \n",
       "349459  https://news.republika.co.id/berita/rz2u0e330/...   \n",
       "93374   https://placeandtest.highline.edu/placement/sm...   \n",
       "444813   https://jadwalsholat.org/adzan/monthly.php?id=14   \n",
       "16154   https://formation-diogene.com/le-syndrome-de-d...   \n",
       "144926            https://vatcalculate.co.uk/383-plus-vat   \n",
       "\n",
       "                                                 FullBody  Label  \n",
       "159469  ‎G2A en App Store Lee reseñas, compara valorac...      0  \n",
       "52063   Veranstaltungen Kurhaus Bad Aibling - Großer K...      0  \n",
       "296524  La curiosa historia detr�s de 19 d�as y 500 no...      0  \n",
       "332856  Accueil · Documentation Framasoft Menu × Frama...      0  \n",
       "392095  Apple Events - Apple Apple Events Apple#TAB#St...      0  \n",
       "...                                                   ...    ...  \n",
       "349459  Keluarga Brigadir J meminta Jaksa Agung bertin...      0  \n",
       "93374   Smarter Balanced » Placement & Testing Center ...      0  \n",
       "444813            <html><head></head><body></body></html>      0  \n",
       "16154   Le Syndrome de Diogène - Comprendre et identif...      0  \n",
       "144926  What is £383 Plus VAT in UK? - Best VAT Calcul...      0  \n",
       "\n",
       "[2000 rows x 3 columns]"
      ]
     },
     "execution_count": 37,
     "metadata": {},
     "output_type": "execute_result"
    }
   ],
   "source": [
    "sample_df_spam"
   ]
  },
  {
   "cell_type": "markdown",
   "id": "280f406a",
   "metadata": {},
   "source": [
    "### Calculate metrics for ScrapeKr"
   ]
  },
  {
   "cell_type": "code",
   "execution_count": 3,
   "id": "9fb24ca1",
   "metadata": {},
   "outputs": [
    {
     "name": "stdout",
     "output_type": "stream",
     "text": [
      "Threshold:  0.53116006\n",
      "Fbeta:  0.7476635513915312\n",
      "auprc:  0.778595406763554\n",
      "Precision:  0.8448844884488449\n",
      "Recall:  0.512\n"
     ]
    }
   ],
   "source": [
    "# Single Mixtral eval\n",
    "# df = pd.read_csv(\"/data/local/IndexQuality/FinetuneLLM/Mistral_v3/Results/scrapekr_dataset_prediction_file.tsv\",sep=\"\\t\")\n",
    "# df = pd.read_csv(\"/cosmos/local/IndexQuality/FinetuneLLM/FullTrainTest/Mixtral_7B_fulldata_finetuned_ym/scrapekr_dataset_prediction_file_7500.tsv\",sep=\"\\t\")\n",
    "# df = pd.read_csv(\"/cosmos/local/IndexQuality/FinetuneLLM/FullTrainTest/Mixtral_New_ym_bs_10_test/model_1900/scrapekr1.2_spamllm2.4.parquet_1900.tsv\",sep=\"\\t\")\n",
    "# df = pd.read_csv(\"/cosmos/local/IndexQuality/FinetuneLLM/FullTrainTest/Mixtral_Zifandata_v1/current_best_1800/scrapekr1.2_spamllm2.4.parquet_1800.tsv\",sep=\"\\t\")\n",
    "# df = pd.read_csv(\"/cosmos/local/IndexQuality/FinetuneLLM/FullTrainTest/Mixtral_Zifandata_v1/current_best_1800/scrapekr1.2_UHRSValidation_withPlugin.tsv_1800.tsv\",sep=\"\\t\")\n",
    "# df = pd.read_csv(\"/cosmos/local/IndexQuality/FinetuneLLM/FullTrainTest/Mixtral_New_ym_bs_10_test_v4/model_1900/scrapekr1.2_spamllm2.4.parquet_1900.tsv\",sep=\"\\t\")\n",
    "df = pd.read_csv(\"/cosmos/local/IndexQuality/FinetuneLLM/FullTrainTest/mixtral_crowd_label_v1/current_best_1200/scrapekr1.2_spamllm2.4_UrlExpectedLabel_escape.tsv_new_scrapekr_expected_label_1200.tsv\",sep=\"\\t\")\n",
    "df_scrapekr = pd.read_parquet(\"/cosmos/local/IndexQuality/FinetuneLLM/EvaluationSets/scrapekr1.2_spamllm2.4.parquet\")[[\"Url\",\"UrlTitle\",\"UrlSnippet\",\"FullBody\",\"UrlExpectedLabel\"]]\n",
    "mapping = {'detrimental spam':1, 'non-detrimental spam':1, 'not spam':0}\n",
    "df_scrapekr['UrlExpectedLabel'] = df_scrapekr['UrlExpectedLabel'].map(mapping)\n",
    "# df_scrapekr = pd.read_csv(\"/cosmos/local/SpamLLM/Prod/KRsets/scrapekr1.2_UHRSValidation_withPlugin.tsv\", sep='\\t')[[\"Url\",\"UrlTitle\",\"UrlSnippet\",\"FullBody\",\"CrowdJudgment\"]]\n",
    "scrape_df = pd.merge(df_scrapekr,df, on=[\"Url\",\"UrlTitle\",\"UrlSnippet\",\"FullBody\"])\n",
    "scrape_df[\"PositiveProb\"] = scrape_df[[\"Prediction\",\"Probability\"]].apply(lambda x:1-x[\"Probability\"] if x[\"Prediction\"]==0 else x[\"Probability\"],axis=1)\n",
    "# precision, recall, thresholds = precision_recall_curve(scrape_df[\"CrowdJudgment\"], scrape_df[\"PositiveProb\"])\n",
    "precision, recall, thresholds = precision_recall_curve(scrape_df[\"UrlExpectedLabel\"], scrape_df[\"PositiveProb\"])\n",
    "beta = 0.5\n",
    "fbeta = (1 + beta**2) * precision * recall / ((beta**2) * precision + recall + 0.00000000001)\n",
    "index = np.nanargmax(fbeta)\n",
    "\n",
    "print(\"Threshold: \",thresholds[index])\n",
    "print(\"Fbeta: \",fbeta[index])\n",
    "print('auprc: ', average_precision_score(scrape_df[\"UrlExpectedLabel\"], scrape_df[\"PositiveProb\"]))\n",
    "print(\"Precision: \",precision[index])\n",
    "print(\"Recall: \",recall[index])"
   ]
  },
  {
   "cell_type": "markdown",
   "id": "5a42f354",
   "metadata": {},
   "source": [
    "# Compute metrics for Mixtral"
   ]
  },
  {
   "cell_type": "code",
   "execution_count": 34,
   "id": "61d2f93a",
   "metadata": {},
   "outputs": [
    {
     "name": "stdout",
     "output_type": "stream",
     "text": [
      "/cosmos/local/IndexQuality/FinetuneLLM/FullTrainTest/mixtral_crowd_master_label_v1/model_200/scrapekr1.2_spamllm2.4_UrlExpectedLabel_escape.tsv_200.tsv\n",
      "/cosmos/local/IndexQuality/FinetuneLLM/FullTrainTest/mixtral_crowd_master_label_v1/model_400/scrapekr1.2_spamllm2.4_UrlExpectedLabel_escape.tsv_400.tsv\n",
      "/cosmos/local/IndexQuality/FinetuneLLM/FullTrainTest/mixtral_crowd_master_label_v1/model_1000/scrapekr1.2_spamllm2.4_UrlExpectedLabel_escape.tsv_1000.tsv\n",
      "/cosmos/local/IndexQuality/FinetuneLLM/FullTrainTest/mixtral_crowd_master_label_v1/model_1200/scrapekr1.2_spamllm2.4_UrlExpectedLabel_escape.tsv_1200.tsv\n",
      "/cosmos/local/IndexQuality/FinetuneLLM/FullTrainTest/mixtral_crowd_master_label_v1/model_1400/scrapekr1.2_spamllm2.4_UrlExpectedLabel_escape.tsv_1400.tsv\n",
      "/cosmos/local/IndexQuality/FinetuneLLM/FullTrainTest/mixtral_crowd_master_label_v1/model_1600/scrapekr1.2_spamllm2.4_UrlExpectedLabel_escape.tsv_1600.tsv\n",
      "/cosmos/local/IndexQuality/FinetuneLLM/FullTrainTest/mixtral_crowd_master_label_v1/model_1800/scrapekr1.2_spamllm2.4_UrlExpectedLabel_escape.tsv_1800.tsv\n",
      "/cosmos/local/IndexQuality/FinetuneLLM/FullTrainTest/mixtral_crowd_master_label_v1/model_3600/scrapekr1.2_spamllm2.4_UrlExpectedLabel_escape.tsv_3600.tsv\n",
      "thresholds: [0.9361765, 0.9466504, 0.94902885, 0.49508947, 0.7545873, 0.50005996, 0.4689856, 0.4226162, 0.39238059999999997, 0.5155641, 0.67908967, 0.34881794, 0.39246460000000005, 0.5621181, 0.4378851, 0.56206876, 0.62239736, 0.57733774, 0.48442863999999997, 0.56207776, 0.4225846, 0.5311581, 0.5154779, 0.70568436, 0.5155736, 0.6223586, 0.62239516, 0.5925748, 0.5467085, 0.56215364, 0.56213623, 0.5311807, 0.6076172, 0.6653764, 0.7057541, 0.7310007, 0.67913175, 0.7310118, 0.7310077, 0.6790814, 0.5926132, 0.7185544, 0.69257116, 0.67912555, 0.6512763, 0.6224297, 0.75479573, 0.7431013, 0.7309407]\n",
      "fbeta: [0.32485875705314743, 0.3647058823425605, 0.3692084941993401, 0.22461289160750136, 0.7007125890631964, 0.6971153846055969, 0.6984478935598276, 0.7147277227615936, 0.7298850574610252, 0.718612334791786, 0.7075471698009258, 0.7244008714497866, 0.7197802197702572, 0.7110609480711367, 0.7131236442417456, 0.7065217391202238, 0.7182628062260356, 0.7238307349565478, 0.7166666666566358, 0.7134955752112355, 0.7127659574370473, 0.7072368420953141, 0.7059447982917383, 0.7025065962950167, 0.7077991452893575, 0.7107843137148648, 0.7119205297913348, 0.7151162790594577, 0.7111597374080076, 0.702595936784455, 0.7057291666570367, 0.7123655913880217, 0.7174392935882443, 0.7086167800351962, 0.7196969696866459, 0.7077625570674284, 0.7142857142754611, 0.7112590798925946, 0.7056451612800695, 0.7061503416754661, 0.7059447982917383, 0.7063953488268997, 0.707964601759908, 0.7066441441340305, 0.7018008474478924, 0.706407563015528, 0.7112068965410696, 0.7156019655913256, 0.7061298076817981]\n",
      "auprc: [0.27767156485088706, 0.3086971342923881, 0.3003961356078629, 0.1363736902400596, 0.6726492772077073, 0.6755998651152106, 0.6759701872307693, 0.6869900683134215, 0.714314760784345, 0.7108692336423055, 0.698918283451694, 0.7110224445329603, 0.7081487957998175, 0.6937340862092614, 0.7028217527923555, 0.7029222929989704, 0.7137531067005982, 0.7192296930841804, 0.7112894655003471, 0.7137470866749566, 0.7186045199095143, 0.7123684905033343, 0.7141277709062457, 0.705093700122793, 0.7187149480314542, 0.7136513214001348, 0.7130819892756958, 0.7107855812957512, 0.6881232884640818, 0.6909641775522923, 0.6951442338261068, 0.6975753741432785, 0.6987788321242582, 0.705232977524525, 0.7131530155854136, 0.7036007759507973, 0.7128163679423695, 0.7050981556020158, 0.7005670469710304, 0.7031980927593722, 0.7022556965516807, 0.7031127369532226, 0.7068495205230293, 0.7022411685473159, 0.7036662275632866, 0.7058886727047445, 0.7082320005242394, 0.7122451377496927, 0.7056534051816606]\n",
      "precision: [0.3399014778325123, 0.41333333333333333, 0.3893129770992366, 0.18815987933634992, 0.7972972972972973, 0.760932944606414, 0.7730061349693251, 0.8279569892473119, 0.8193548387096774, 0.7933130699088146, 0.802675585284281, 0.7964071856287425, 0.793939393939394, 0.7924528301886793, 0.7827380952380952, 0.7916666666666666, 0.7962962962962963, 0.8024691358024691, 0.7938461538461539, 0.7889908256880734, 0.7768115942028986, 0.7794561933534743, 0.7687861271676301, 0.8385826771653543, 0.7725947521865889, 0.8197879858657244, 0.7865853658536586, 0.8065573770491803, 0.7831325301204819, 0.7830188679245284, 0.7633802816901408, 0.7794117647058824, 0.7926829268292683, 0.7911392405063291, 0.8125, 0.792332268370607, 0.8025889967637541, 0.8159722222222222, 0.7928802588996764, 0.7898089171974523, 0.7687861271676301, 0.7967213114754098, 0.7828746177370031, 0.786833855799373, 0.7636887608069164, 0.7663817663817664, 0.8220640569395018, 0.8262411347517731, 0.8075601374570447]\n",
      "recall: [0.276, 0.248, 0.306, 0.998, 0.472, 0.522, 0.504, 0.462, 0.508, 0.522, 0.48, 0.532, 0.524, 0.504, 0.526, 0.494, 0.516, 0.52, 0.516, 0.516, 0.536, 0.516, 0.532, 0.426, 0.53, 0.464, 0.516, 0.492, 0.52, 0.498, 0.542, 0.53, 0.52, 0.5, 0.494, 0.496, 0.496, 0.47, 0.49, 0.496, 0.532, 0.486, 0.512, 0.502, 0.53, 0.538, 0.462, 0.466, 0.47]\n",
      "model_index: [200, 400, 600, 800, 1000, 1200, 1400, 1600, 1800, 2000, 2200, 2400, 2600, 2800, 3000, 3200, 3400, 3600, 3800, 4000, 4200, 4400, 4600, 4800, 5000, 5200, 5400, 5600, 5800, 6000, 6200, 6400, 6600, 6800, 7000, 7200, 7400, 7600, 7800, 8000, 8200, 8400, 8600, 8800, 9000, 9200, 9400, 9600, 9800]\n",
      "best_auprc: 0.7192\n",
      "best_auprc_index: 17\n",
      "best_precision: 0.8025\n",
      "best_recall: 0.52\n",
      "best_thresholds: 0.5773\n",
      "best_fbeta: 0.7238\n",
      "best_i: 3600\n",
      "49\n"
     ]
    }
   ],
   "source": [
    "# 对ScrapeKr先处理一波 - Mixtral（100-1200）\n",
    "import os\n",
    "threshold_list = []\n",
    "fbeta_list = []\n",
    "auprc_list = []\n",
    "precision_list = []\n",
    "recall_list = []\n",
    "index_list = []\n",
    "\n",
    "best_auprc = -1\n",
    "auprc_index = 0\n",
    "best_auprc_index = 0\n",
    "i_list = []\n",
    "\n",
    "# df_scrapekr = pd.read_parquet(\"/cosmos/local/IndexQuality/FinetuneLLM/EvaluationSets/scrapekr1.2_spamllm2.4.parquet\")[[\"Url\",\"UrlTitle\",\"UrlSnippet\",\"FullBody\",\"CrowdJudgment\"]]\n",
    "df_scrapekr = pd.read_parquet(\"/cosmos/local/IndexQuality/FinetuneLLM/EvaluationSets/scrapekr1.2_spamllm2.4.parquet\")[[\"Url\",\"UrlTitle\",\"UrlSnippet\",\"FullBody\",\"UrlExpectedLabel\"]]\n",
    "mapping = {'detrimental spam':1, 'non-detrimental spam':1, 'not spam':0}\n",
    "df_scrapekr['UrlExpectedLabel'] = df_scrapekr['UrlExpectedLabel'].map(mapping)\n",
    "def replace_special_chars(x):\n",
    "    if isinstance(x, str):\n",
    "        x = x.replace('\\r', '#R#')\n",
    "        x = x.replace('\\n', '#N#')\n",
    "        x = x.replace('\\t', '#TAB#')\n",
    "    return x\n",
    "df_scrapekr['FullBody'] = df_scrapekr['FullBody'].apply(lambda x:replace_special_chars(x))\n",
    "\n",
    "for i in range(200, 10000, 200):\n",
    "    # df = pd.read_csv(f\"/cosmos/local/IndexQuality/FinetuneLLM/FullTrainTest/Mixtral_7B_fulldata_finetuned_ym_bs_10/scrapekr1.2_spamllm2.4.parquet_{i}.tsv\",sep=\"\\t\")\n",
    "    # target_file_path = f\"/cosmos/local/IndexQuality/FinetuneLLM/FullTrainTest/Mixtral_7B_fulldata_finetuned_ym_bs_10/scrapekr1.2_spamllm2.4.parquet_{i}.tsv\"\n",
    "    # target_file_path = f\"/cosmos/local/IndexQuality/FinetuneLLM/FullTrainTest/Mixtral_7B_fulldata_finetuned_ym_bs_10_again/scrapekr1.2_spamllm2.4.parquet_{i}.tsv\"  不行\n",
    "    # target_file_path = f\"/cosmos/local/IndexQuality/FinetuneLLM/FullTrainTest/Mixtral_New_ym_bs_10_test/model_{i}/scrapekr1.2_spamllm2.4.parquet_{i}.tsv\"\n",
    "    # target_file_path = f\"/cosmos/local/IndexQuality/FinetuneLLM/FullTrainTest/Mixtral_Zifandata_v1/model_{i}/scrapekr1.2_spamllm2.4.parquet_{i}.tsv\"\n",
    "    # target_file_path = f\"/cosmos/local/IndexQuality/FinetuneLLM/FullTrainTest/Mixtral_New_ym_bs_10_test_v1/model_{i}/scrapekr1.2_spamllm2.4.parquet_{i}.tsv\"\n",
    "    # target_file_path = f\"/cosmos/local/IndexQuality/FinetuneLLM/FullTrainTest/Mixtral_New_ym_bs_10_test_v4/model_{i}/scrapekr1.2_spamllm2.4.parquet_{i}.tsv\"\n",
    "    # target_file_path = f\"/cosmos/local/IndexQuality/FinetuneLLM/FullTrainTest/mixtral_crowd_label_v1/model_{i}/scrapekr1.2_spamllm2.4_UrlExpectedLabel_escape.tsv_scrape_kr_expected_label_{i}.tsv\"\n",
    "    target_file_path = f\"/cosmos/local/IndexQuality/FinetuneLLM/FullTrainTest/mixtral_crowd_master_label_v1/model_{i}/scrapekr1.2_spamllm2.4_UrlExpectedLabel_escape.tsv_{i}.tsv\"\n",
    "    \n",
    "    if not os.path.exists(target_file_path):\n",
    "        print(f'{target_file_path} does not exist!')\n",
    "        continue\n",
    "    df = pd.read_csv(target_file_path,sep=\"\\t\")\n",
    "    scrape_df = pd.merge(df_scrapekr,df, on=[\"Url\",\"UrlTitle\",\"UrlSnippet\",\"FullBody\"])\n",
    "\n",
    "    # print(len(df_scrapekr), len(df), len(scrape_df))\n",
    "    scrape_df[\"PositiveProb\"] = scrape_df[[\"Prediction\",\"Probability\"]].apply(lambda x:1-x[\"Probability\"] if x[\"Prediction\"]==0 else x[\"Probability\"],axis=1)\n",
    "    precision, recall, thresholds = precision_recall_curve(scrape_df[\"UrlExpectedLabel\"], scrape_df[\"PositiveProb\"])\n",
    "    beta = 0.5\n",
    "    fbeta = (1 + beta**2) * precision * recall / ((beta**2) * precision + recall + 0.00000000001)\n",
    "    index = np.nanargmax(fbeta)\n",
    "    # Replace ScrapeKR's Label from CrowdJudgement to UrlExpectedLabel\n",
    "    # auprc = average_precision_score(scrape_df[\"CrowdJudgment\"], scrape_df[\"PositiveProb\"])\n",
    "    \n",
    "    auprc = average_precision_score(scrape_df[\"UrlExpectedLabel\"], scrape_df[\"PositiveProb\"])\n",
    "    \n",
    "    # print('auprc: ', auprc, best_auprc)\n",
    "    if auprc >= best_auprc:\n",
    "        best_auprc = auprc\n",
    "        best_auprc_index = auprc_index\n",
    "        print(target_file_path)\n",
    "    \n",
    "    threshold_list.append(thresholds[index])\n",
    "    fbeta_list.append(fbeta[index])\n",
    "    auprc_list.append(auprc)\n",
    "    precision_list.append(precision[index])\n",
    "    recall_list.append(recall[index])\n",
    "    index_list.append(i)\n",
    "    i_list.append(i)\n",
    "    auprc_index += 1\n",
    "\n",
    "print(f'thresholds: {threshold_list}')\n",
    "print(f'fbeta: {fbeta_list}')\n",
    "print(f'auprc: {auprc_list}')\n",
    "print(f'precision: {precision_list}')\n",
    "print(f'recall: {recall_list}')\n",
    "print(f'model_index: {index_list}')\n",
    "\n",
    "print(f'best_auprc: {round(best_auprc,4)}')\n",
    "print(f'best_auprc_index: {best_auprc_index}')\n",
    "print(f'best_precision: {round(precision_list[best_auprc_index],4)}')\n",
    "print(f'best_recall: {round(recall_list[best_auprc_index],4)}')\n",
    "print(f'best_thresholds: {round(threshold_list[best_auprc_index],4)}')\n",
    "print(f'best_fbeta: {round(fbeta_list[best_auprc_index],4)}')  \n",
    "print(f'best_i: {i_list[best_auprc_index]}')  \n",
    "print(len(auprc_list)) "
   ]
  },
  {
   "cell_type": "markdown",
   "id": "a28900b4",
   "metadata": {},
   "source": [
    "# Compute metrics for E5"
   ]
  },
  {
   "cell_type": "code",
   "execution_count": 15,
   "id": "138f9793",
   "metadata": {},
   "outputs": [
    {
     "name": "stdout",
     "output_type": "stream",
     "text": [
      "current model ID: 4200, current auprc: 0.4210613013395453, current best model: /cosmos/local/IndexQuality/FinetuneLLM/FullTrainTest/qwen_no_overlap_o1_a3_v1/model_4200/auditor_ym_escape1.tsv_2.tsv\n",
      "thresholds: [0.80810546875]\n",
      "fbeta: [0.5132424384781279]\n",
      "auprc: [0.4210613013395453]\n",
      "precision: [0.6173421300659755]\n",
      "recall: [0.3065044454843238]\n",
      "model_index: [4200]\n",
      "best_auprc: 0.4210613013395453\n",
      "best_auprc_index: 0\n",
      "best_precision: 0.6173421300659755\n",
      "best_recall: 0.3065044454843238\n",
      "best_thresholds: 0.80810546875\n",
      "best_fbeta: 0.5132424384781279\n",
      "best_i: 4200\n"
     ]
    },
    {
     "data": {
      "text/plain": [
       "1"
      ]
     },
     "execution_count": 15,
     "metadata": {},
     "output_type": "execute_result"
    }
   ],
   "source": [
    "# 对ScrapeKr先处理一波，从而得到最佳模型 - Mistral - E5\n",
    "import os\n",
    "threshold_list = []\n",
    "fbeta_list = []\n",
    "auprc_list = []\n",
    "precision_list = []\n",
    "recall_list = []\n",
    "index_list = []\n",
    "\n",
    "label_list = []\n",
    "pred_list = []\n",
    "\n",
    "best_auprc = -1\n",
    "auprc_index = 0\n",
    "best_auprc_index = 0\n",
    "i_list = []\n",
    "\n",
    "# df_scrapekr = pd.read_parquet(\"/cosmos/local/IndexQuality/FinetuneLLM/EvaluationSets/scrapekr1.2_spamllm2.4.parquet\")[[\"Url\",\"UrlTitle\",\"UrlSnippet\",\"FullBody\",\"CrowdJudgment\"]]\n",
    "# for i in range(200, 29400, 200):\n",
    "for i in [4200]: # 4200, 6600, 9000\n",
    "    for root, dirs, files in os.walk(f\"/cosmos/local/IndexQuality/FinetuneLLM/FullTrainTest/qwen_no_overlap_o1_a3_v1/model_{i}\"):\n",
    "        for j in range(0,3,1):\n",
    "        # for j in range(0,2,1):\n",
    "            # target_file = os.path.join(root, f'scrapekr1.2_spamllm2.4.parquet_{j}.tsv')\n",
    "            target_file = os.path.join(root, f'auditor_ym_escape1.tsv_{j}.tsv')\n",
    "            # target_file = os.path.join(root, f'scrapekr1.2_spamllm2.4.parquet_new_scapekr_{j}.tsv')\n",
    "            # target_file = os.path.join(root, f'scrapekr1.2_spamllm2.4_UrlExpectedLabel_escape.tsv_{j}.tsv')\n",
    "            if not os.path.exists(target_file):\n",
    "                continue\n",
    "            with open(target_file, 'r') as f:\n",
    "                for line in f.readlines():\n",
    "                    split_line = line.strip().split('\\t')\n",
    "                    label_list.append(float(split_line[0]))\n",
    "                    pred_list.append(float(split_line[1]))\n",
    "        precision, recall, thresholds = precision_recall_curve(label_list, pred_list)\n",
    "        beta = 0.5\n",
    "        fbeta = (1 + beta**2) * precision * recall / ((beta**2) * precision + recall + 0.00000000001)\n",
    "        index = np.nanargmax(fbeta)\n",
    "        auprc = average_precision_score(label_list, pred_list)\n",
    "        \n",
    "        # if auprc == 0.745684835581503:\n",
    "        #     print(f'threshold: {thresholds[index]}, fbeta: {fbeta[index]}, auprc: {auprc}, precision: {precision[index]}, recall: {recall[index]}, model: {target_file}')\n",
    "            # break\n",
    "       \n",
    "        # print('auprc: ', auprc, best_auprc)\n",
    "        if auprc >= best_auprc:\n",
    "            best_auprc = auprc\n",
    "            best_auprc_index = auprc_index\n",
    "            print(f'current model ID: {i}, current auprc: {auprc}, current best model: {target_file}')\n",
    "        \n",
    "        # if auprc >= 0.73:\n",
    "        #     print(f'current model ID: {i}, current auprc: {auprc}, current best model: {target_file}')\n",
    "        \n",
    "        threshold_list.append(thresholds[index])\n",
    "        fbeta_list.append(fbeta[index])\n",
    "        auprc_list.append(auprc)\n",
    "        precision_list.append(precision[index])\n",
    "        recall_list.append(recall[index])\n",
    "        index_list.append(i)\n",
    "        i_list.append(i)\n",
    "        auprc_index += 1\n",
    "        # print(f'total data count: {len(label_list)}, {len(pred_list)}')\n",
    "        label_list = []\n",
    "        pred_list = []\n",
    "\n",
    "print(f'thresholds: {threshold_list}')\n",
    "print(f'fbeta: {fbeta_list}')\n",
    "print(f'auprc: {auprc_list}')\n",
    "print(f'precision: {precision_list}')\n",
    "print(f'recall: {recall_list}')\n",
    "print(f'model_index: {index_list}')\n",
    "\n",
    "print(f'best_auprc: {best_auprc}')\n",
    "print(f'best_auprc_index: {best_auprc_index}')\n",
    "print(f'best_precision: {precision_list[best_auprc_index]}')\n",
    "print(f'best_recall: {recall_list[best_auprc_index]}')\n",
    "print(f'best_thresholds: {threshold_list[best_auprc_index]}')\n",
    "print(f'best_fbeta: {fbeta_list[best_auprc_index]}')  \n",
    "print(f'best_i: {i_list[best_auprc_index]}')  \n",
    "len(auprc_list) "
   ]
  },
  {
   "cell_type": "code",
   "execution_count": 119,
   "id": "04f196db",
   "metadata": {},
   "outputs": [
    {
     "data": {
      "text/plain": [
       "<matplotlib.collections.PathCollection at 0x7f994a0d8460>"
      ]
     },
     "execution_count": 119,
     "metadata": {},
     "output_type": "execute_result"
    },
    {
     "data": {
      "image/png": "[encoded data removed]",
      "text/plain": [
       "<Figure size 640x480 with 1 Axes>"
      ]
     },
     "metadata": {},
     "output_type": "display_data"
    }
   ],
   "source": [
    "plt.xlabel(\"Recall\")\n",
    "plt.ylabel(\"Precision\")\n",
    "plt.title(\"Precision-Recall curve ScrapeKr Mixtral\")\n",
    "plt.plot(recall,precision)\n",
    "plt.scatter(recall[index], precision[index], marker='o', color='black', label='Best')"
   ]
  },
  {
   "cell_type": "markdown",
   "id": "d7e48ac7",
   "metadata": {},
   "source": [
    "# Compute 5-Eval-sets Metrics for E5 Best Model"
   ]
  },
  {
   "cell_type": "code",
   "execution_count": 19,
   "id": "ead519fe",
   "metadata": {},
   "outputs": [
    {
     "name": "stdout",
     "output_type": "stream",
     "text": [
      "total length: 8472\n",
      "Threshold:  0.4431\n",
      "Fbeta:  0.3925\n",
      "auprc:  0.3129\n",
      "Precision:  0.3916\n",
      "Recall:  0.3963\n"
     ]
    },
    {
     "data": {
      "text/plain": [
       "<matplotlib.collections.PathCollection at 0x7f6ca91ea200>"
      ]
     },
     "execution_count": 19,
     "metadata": {},
     "output_type": "execute_result"
    },
    {
     "data": {
      "image/png": "[encoded data removed]",
      "text/plain": [
       "<Figure size 640x480 with 1 Axes>"
      ]
     },
     "metadata": {},
     "output_type": "display_data"
    }
   ],
   "source": [
    "# Compute metrics for E5-Panashe-fulldata-model\n",
    "Label = []\n",
    "Pred = []\n",
    "eval_sets = ['scrapekr1.2_spamllm2.4.parquet', 'spamgtx5.0_UHRSoutput.parquet', 'Clean_60k.tsv', '8k_with_flipped_labels.tsv', 'test_dataset_2024_03_05.tsv', 'auditor_ym_escape1.tsv']\n",
    "# eval_sets = [\"scrapekr1.2_spamllm2.4_UrlExpectedLabel_escape.tsv\", \"spamgtx5.0_UHRSoutput_escape.tsv\", \"Clean_60k_escape.tsv\", \"8k_with_flipped_labels_escape.tsv\", \"auditor_ym_escape1.tsv\"]\n",
    "# eval_sets = ['scrapekr1.2_spamllm2.4.parquet', 'spamgtx5.0_UHRSoutput_201.parquet', 'Clean_60k.tsv', 'test_dataset_2024_03_05.tsv']\n",
    "cur_eval_set = eval_sets[3]\n",
    "# count = 0\n",
    "for i in range(0,3,1):\n",
    "# for i in range(0,2,1):\n",
    "    # with open(f'/cosmos/local/IndexQuality/FinetuneLLM/FullTrainTest/Mistral_New_ym_e5_v3/model_2100/{cur_eval_set}_{i}.tsv', 'r') as f:\n",
    "    # with open(f'/cosmos/local/IndexQuality/FinetuneLLM/FullTrainTest/Mistral_New_ym_e5_v2/current_model_1500/{cur_eval_set}_{i}.tsv', 'r') as f:\n",
    "    # with open(f'/cosmos/local/IndexQuality/FinetuneLLM/FullTrainTest/Mistral_New_ym_e5_v1/current_best_1300/{cur_eval_set}_{i}.tsv', 'r') as f:\n",
    "    with open(f'/cosmos/local/IndexQuality/FinetuneLLM/FullTrainTest/Mistral_New_ym_e5_v1/current_best_1000/{cur_eval_set}_new_scapekr_{i}.tsv', 'r') as f:\n",
    "    # with open(f'/cosmos/local/IndexQuality/FinetuneLLM/FullTrainTest/qwen_no_overlap_o1_a3_v1/model_4200/{cur_eval_set}_{i}.tsv', 'r') as f:\n",
    "        for line in f.readlines():\n",
    "            # count += 1\n",
    "            split_line = line.strip().split('\\t')\n",
    "            \n",
    "            # if i == 1 and count == 276:\n",
    "            #     continue\n",
    "            Label.append(float(split_line[0]))\n",
    "            # print('-->>> float(split_line[1]): ', split_line[1], 'current_i: ', i, ', count: ', count)\n",
    "            Pred.append(float(split_line[1]))\n",
    "print(f'total length: {len(Label)}')\n",
    "\n",
    "from sklearn.metrics import precision_recall_curve\n",
    "import numpy as np\n",
    "from sklearn.metrics import average_precision_score\n",
    "\n",
    "precision, recall, thresholds = precision_recall_curve(Label, Pred)\n",
    "beta=0.5\n",
    "fbeta = (1 + beta**2) * precision * recall / ((beta**2) * precision + recall + 0.00000000001)\n",
    "index = np.nanargmax(fbeta)\n",
    "\n",
    "print(\"Threshold: \",round(thresholds[index],4))\n",
    "print(\"Fbeta: \",round(fbeta[index],4))\n",
    "print(\"auprc: \", round(average_precision_score(Label, Pred),4))\n",
    "print(\"Precision: \",round(precision[index],4))\n",
    "print(\"Recall: \",round(recall[index],4)) \n",
    "\n",
    "plt.xlabel(\"Recall\")\n",
    "plt.ylabel(\"Precision\")\n",
    "plt.title(f\"Precision-Recall {cur_eval_set} - E5\")\n",
    "plt.plot(recall,precision)\n",
    "plt.scatter(recall[index], precision[index], marker='o', color='black', label='Best')"
   ]
  },
  {
   "cell_type": "markdown",
   "id": "837ff8ff",
   "metadata": {},
   "source": [
    "### Calculate metrics for balanced dataset"
   ]
  },
  {
   "cell_type": "code",
   "execution_count": 18,
   "id": "6c6d6605",
   "metadata": {},
   "outputs": [
    {
     "name": "stdout",
     "output_type": "stream",
     "text": [
      "Threshold:  0.07165699999999997\n",
      "Fbeta:  0.9452846975002493\n",
      "auprc:  0.9799955536204481\n",
      "Precision:  0.9725400457665904\n",
      "Recall:  0.85\n"
     ]
    }
   ],
   "source": [
    "# df = pd.read_csv(\"/data/local/IndexQuality/FinetuneLLM/FullTrain/Llama3_O1_A3_crowd_data_low_lr/test_2500_dataset_prediction_file.tsv\",sep=\"\\t\")\n",
    "# df = pd.read_csv(\"/cosmos/local/IndexQuality/FinetuneLLM/FullTrainTest/Mixtral_7B_ym/test_2500_dataset_prediction_file.tsv\",sep=\"\\t\")\n",
    "# df = pd.read_csv(\"/cosmos/local/IndexQuality/FinetuneLLM/FullTrainTest/Mixtral_7B_fulldata_finetuned_ym_bs_10/test_dataset_2024_03_05.tsv_2700.tsv\",sep=\"\\t\")\n",
    "# df = pd.read_csv(\"/cosmos/local/IndexQuality/FinetuneLLM/FullTrainTest/Mixtral_New_ym_bs_10_test/model_1900/test_dataset_2024_03_05.tsv_1900.tsv\",sep=\"\\t\")\n",
    "# df = pd.read_csv(\"/cosmos/local/IndexQuality/FinetuneLLM/FullTrainTest/Mixtral_New_ym_bs_10_test_v4/current_best_2200/test_dataset_2024_03_05.tsv_2200.tsv\",sep=\"\\t\")\n",
    "df = pd.read_csv(\"/cosmos/local/IndexQuality/FinetuneLLM/FullTrainTest/mixtral_crowd_label_v1/current_best_1200/test_dataset_2024_03_05_escape.tsv_new_scrapekr_expected_label_1200.tsv\",sep=\"\\t\")\n",
    "\n",
    "# df_balanced = pd.read_csv(\"/data/local/IndexQuality/FinetuneLLM/EvaluationSets/test_dataset_2024_03_05.tsv\",sep=\"\\t\")[[\"Url\",\"UrlTitle\",\"UrlSnippet\",\"FullBody\",\"Label\"]]\n",
    "df_balanced = pd.read_csv(\"/cosmos/local/IndexQuality/FinetuneLLM/EvaluationSets/test_dataset_2024_03_05.tsv\",sep=\"\\t\")[[\"Url\",\"UrlTitle\",\"UrlSnippet\",\"FullBody\",\"Label\"]]\n",
    "\n",
    "df_balanced[\"Label\"] = df_balanced[\"Label\"].apply(lambda x:int(x.replace(\"<ANS>\",\"\").replace(\"</ANS>\",\"\")))\n",
    "\n",
    "test_df = pd.merge(df,df_balanced,on=[\"Url\",\"UrlTitle\",\"UrlSnippet\",\"FullBody\"])\n",
    "test_df[\"PositiveProb\"] = test_df[[\"Prediction\",\"Probability\"]].apply(lambda x:1-x[\"Probability\"] if x[\"Prediction\"]==0 else x[\"Probability\"],axis=1)\n",
    "\n",
    "from sklearn.metrics import precision_recall_curve\n",
    "\n",
    "precision, recall, thresholds = precision_recall_curve(test_df[\"Label\"], test_df[\"PositiveProb\"])\n",
    "beta=0.5\n",
    "fbeta = (1 + beta**2) * precision * recall / ((beta**2) * precision + recall + 0.00000000001)\n",
    "index = np.nanargmax(fbeta)\n",
    "\n",
    "print(\"Threshold: \",thresholds[index])\n",
    "print(\"Fbeta: \",fbeta[index])\n",
    "print(\"auprc: \", average_precision_score(test_df[\"Label\"], test_df[\"PositiveProb\"]))\n",
    "print(\"Precision: \",precision[index])\n",
    "print(\"Recall: \",recall[index])"
   ]
  },
  {
   "cell_type": "code",
   "execution_count": 123,
   "id": "a8e0a56b",
   "metadata": {},
   "outputs": [
    {
     "data": {
      "text/plain": [
       "<matplotlib.collections.PathCollection at 0x7f9867a7b700>"
      ]
     },
     "execution_count": 123,
     "metadata": {},
     "output_type": "execute_result"
    },
    {
     "data": {
      "image/png": "[encoded data removed]",
      "text/plain": [
       "<Figure size 640x480 with 1 Axes>"
      ]
     },
     "metadata": {},
     "output_type": "display_data"
    }
   ],
   "source": [
    "plt.xlabel(\"Recall\")\n",
    "plt.ylabel(\"Precision\")\n",
    "plt.title(\"Precision-Recall curve balanced Mixtral\")\n",
    "plt.plot(recall,precision)\n",
    "plt.scatter(recall[index], precision[index], marker='o', color='black', label='Best')"
   ]
  },
  {
   "cell_type": "markdown",
   "id": "4e005281",
   "metadata": {},
   "source": [
    "# Calculate metrics for Auditor"
   ]
  },
  {
   "cell_type": "code",
   "execution_count": 41,
   "id": "ac1d5ba2",
   "metadata": {},
   "outputs": [
    {
     "name": "stdout",
     "output_type": "stream",
     "text": [
      "43853 419 43853\n",
      "Threshold:  0.8174844\n",
      "Fbeta:  0.5063721325287935\n",
      "auprc:  0.4856562363457842\n",
      "Precision:  0.6360725720384205\n",
      "Recall:  0.2788956481048198\n"
     ]
    }
   ],
   "source": [
    "df_pred = pd.read_csv(\"/cosmos/local/IndexQuality/FinetuneLLM/FullTrainTest/mixtral_crowd_master_label_v1/current_best_3600/auditor_ym_escape1.tsv_new_scrapekr_expected_label_3600.tsv\",sep=\"\\t\")\n",
    "\n",
    "df_aditor = pd.read_csv(\"/cosmos/local/users/zifanwang/SpamLLM/data/auditor_ym_escape1.tsv\", sep='\\t', header=None, names=['Url', 'UrlTitle', 'UrlSnippet', 'FullBody', 'Label'])\n",
    "\n",
    "df_merged = pd.merge(df_pred,df_aditor,on=[\"Url\",\"UrlTitle\",\"UrlSnippet\",\"FullBody\"])\n",
    "df_merged[\"PositiveProb\"] = df_merged[[\"Prediction\",\"Probability\"]].apply(lambda x:1-x[\"Probability\"] if x[\"Prediction\"]==0 else x[\"Probability\"],axis=1)\n",
    "print(len(df_pred), len(df_gtx), len(df_merged))\n",
    "from sklearn.metrics import precision_recall_curve\n",
    "\n",
    "precision, recall, thresholds = precision_recall_curve(df_merged[\"Label\"], df_merged[\"PositiveProb\"])\n",
    "beta=0.5\n",
    "fbeta = (1 + beta**2) * precision * recall / ((beta**2) * precision + recall + 0.00000000001)\n",
    "index = np.nanargmax(fbeta)\n",
    "\n",
    "print(\"Threshold: \",thresholds[index])\n",
    "print(\"Fbeta: \",fbeta[index])\n",
    "print(\"auprc: \", average_precision_score(df_merged[\"Label\"], df_merged[\"PositiveProb\"]))\n",
    "print(\"Precision: \",precision[index])\n",
    "print(\"Recall: \",recall[index])"
   ]
  },
  {
   "cell_type": "markdown",
   "id": "90fe6183",
   "metadata": {},
   "source": [
    "### Calculate metrics for gtx dataset"
   ]
  },
  {
   "cell_type": "code",
   "execution_count": 4,
   "id": "1afe8f12",
   "metadata": {},
   "outputs": [
    {
     "name": "stdout",
     "output_type": "stream",
     "text": [
      "419 419 419\n",
      "Threshold:  0.24514829999999999\n",
      "Fbeta:  0.7948717948612439\n",
      "auprc:  0.849541082175153\n",
      "Precision:  0.9117647058823529\n",
      "Recall:  0.5254237288135594\n"
     ]
    }
   ],
   "source": [
    "\n",
    "# df_pred = pd.read_csv(\"/data/local/IndexQuality/FinetuneLLM/FullTrain/Llama3_O1_A3_crowd_data_low_lr/gtx_2500_dataset_prediction_file.tsv\",sep=\"\\t\")\n",
    "# df_pred = pd.read_csv(\"/cosmos/local/IndexQuality/FinetuneLLM/FullTrainTest/Mixtral_7B_fulldata_finetuned_ym_bs_10/spamgtx5.0_UHRSoutput_201.parquet_2700.tsv\",sep=\"\\t\")\n",
    "# df_pred = pd.read_csv(\"/cosmos/local/IndexQuality/FinetuneLLM/FullTrainTest/Mixtral_New_ym_bs_10_test/model_1900/spamgtx5.0_UHRSoutput_201.parquet_1900.tsv\",sep=\"\\t\")\n",
    "# df_pred = pd.read_csv(\"/cosmos/local/IndexQuality/FinetuneLLM/FullTrainTest/Mixtral_New_ym_bs_10_test_v4/current_best_2200/spamgtx5.0_UHRSoutput.parquet_2200.tsv\",sep=\"\\t\")\n",
    "# df_pred = pd.read_csv(\"/cosmos/local/IndexQuality/FinetuneLLM/FullTrainTest/Mixtral_New_ym_bs_10_test_v4/current_best_1900/spamgtx5.0_UHRSoutput.parquet_new_scrapekr_1900.tsv\",sep=\"\\t\")\n",
    "df_pred = pd.read_csv(\"/cosmos/local/IndexQuality/FinetuneLLM/FullTrainTest/mixtral_crowd_label_v1/current_best_1200/spamgtx5.0_UHRSoutput_escape.tsv_new_scrapekr_expected_label_1200.tsv\",sep=\"\\t\")\n",
    "\n",
    "# below file is not exist\n",
    "# df_gtx = pd.read_parquet(\"/data/local/IndexQuality/FinetuneLLM/EvaluationSets/spamgtx5.0_UHRSoutput 1.parquet\")\n",
    "# df_gtx = pd.read_parquet(\"/cosmos/local/IndexQuality/FinetuneLLM/EvaluationSets/spamgtx5.0_UHRSoutput_201.parquet\")\n",
    "df_gtx = pd.read_parquet(\"/cosmos/local/IndexQuality/FinetuneLLM/EvaluationSets/spamgtx5.0_UHRSoutput.parquet\")\n",
    "\n",
    "df_gtx[\"Label\"] = df_gtx[\"AuditorJudgment\"].apply(lambda x: 0 if x =='not spam' else 1)\n",
    "df_gtx = df_gtx[[\"Url\",\"UrlTitle\",\"UrlSnippet\",\"FullBody\",\"Label\"]]\n",
    "df_merged = pd.merge(df_pred,df_gtx,on=[\"Url\",\"UrlTitle\",\"UrlSnippet\",\"FullBody\"])\n",
    "df_merged[\"PositiveProb\"] = df_merged[[\"Prediction\",\"Probability\"]].apply(lambda x:1-x[\"Probability\"] if x[\"Prediction\"]==0 else x[\"Probability\"],axis=1)\n",
    "print(len(df_pred), len(df_gtx), len(df_merged))\n",
    "from sklearn.metrics import precision_recall_curve\n",
    "\n",
    "precision, recall, thresholds = precision_recall_curve(df_merged[\"Label\"], df_merged[\"PositiveProb\"])\n",
    "beta=0.5\n",
    "fbeta = (1 + beta**2) * precision * recall / ((beta**2) * precision + recall + 0.00000000001)\n",
    "index = np.nanargmax(fbeta)\n",
    "\n",
    "print(\"Threshold: \",thresholds[index])\n",
    "print(\"Fbeta: \",fbeta[index])\n",
    "print(\"auprc: \", average_precision_score(df_merged[\"Label\"], df_merged[\"PositiveProb\"]))\n",
    "print(\"Precision: \",precision[index])\n",
    "print(\"Recall: \",recall[index])"
   ]
  },
  {
   "cell_type": "code",
   "execution_count": 14,
   "id": "c721d2c3",
   "metadata": {},
   "outputs": [
    {
     "data": {
      "text/plain": [
       "<matplotlib.collections.PathCollection at 0x7f2a75f10ac0>"
      ]
     },
     "execution_count": 14,
     "metadata": {},
     "output_type": "execute_result"
    },
    {
     "data": {
      "image/png": "[encoded data removed]",
      "text/plain": [
       "<Figure size 640x480 with 1 Axes>"
      ]
     },
     "metadata": {},
     "output_type": "display_data"
    }
   ],
   "source": [
    "plt.xlabel(\"Recall\")\n",
    "plt.ylabel(\"Precision\")\n",
    "plt.title(\"Precision-Recall curve gtx Mixtral\")\n",
    "plt.plot(recall,precision)\n",
    "plt.scatter(recall[index], precision[index], marker='o', color='black', label='Best')\n"
   ]
  },
  {
   "cell_type": "markdown",
   "id": "f27de678",
   "metadata": {},
   "source": [
    "### Calculating metrics for 60k metrics"
   ]
  },
  {
   "cell_type": "code",
   "execution_count": 43,
   "id": "f0d160c0",
   "metadata": {},
   "outputs": [
    {
     "name": "stdout",
     "output_type": "stream",
     "text": [
      "Threshold:  0.46886026999999997\n",
      "Fbeta:  0.7082082081982222\n",
      "auprc:  0.680079022434977\n",
      "Precision:  0.7823082239115411\n",
      "Recall:  0.5136116152450091\n"
     ]
    }
   ],
   "source": [
    "# df_60k = pd.read_csv(\"/data/local/IndexQuality/FinetuneLLM/EvaluationSets/Clean_60k.tsv\",sep=\"\\t\",lineterminator=\"\\n\").drop_duplicates()\n",
    "df_60k = pd.read_csv(\"/cosmos/local/IndexQuality/FinetuneLLM/EvaluationSets/Clean_60k.tsv\",sep=\"\\t\",lineterminator=\"\\n\").drop_duplicates()  # columns: ['Unnamed: 0', 'Url', 'UrlTitle', 'UrlSnippet', 'FullBody', 'Label']\n",
    "\n",
    "# df_pred_60k = pd.read_csv(\"/cosmos/local/IndexQuality/FinetuneLLM/FullTrainTest/Mixtral_7B_ym/60k_2500_dataset_prediction_file.tsv\",sep=\"\\t\",lineterminator=\"\\n\").drop_duplicates()\n",
    "# df_pred_60k = pd.read_csv(\"/cosmos/local/IndexQuality/FinetuneLLM/FullTrainTest/Mixtral_7B_fulldata_finetuned_ym_bs_10/Clean_60k.tsv_2700.tsv\",sep=\"\\t\",lineterminator=\"\\n\").drop_duplicates()\n",
    "# df_pred_60k = pd.read_csv(\"/cosmos/local/IndexQuality/FinetuneLLM/FullTrainTest/Mixtral_New_ym_bs_10_test/model_1900/Clean_60k.tsv_1900.tsv\",sep=\"\\t\",lineterminator=\"\\n\").drop_duplicates()\n",
    "# df_pred_60k = pd.read_csv(\"/cosmos/local/IndexQuality/FinetuneLLM/FullTrainTest/Mixtral_New_ym_bs_10_test_v4/current_best_2200/Clean_60k.tsv_2200.tsv\",sep=\"\\t\",lineterminator=\"\\n\").drop_duplicates()\n",
    "df_pred_60k = pd.read_csv(\"/cosmos/local/IndexQuality/FinetuneLLM/FullTrainTest/mixtral_crowd_master_label_v1/current_best_3600/Clean_60k_escape.tsv_new_scrapekr_expected_label_3600.tsv\",sep=\"\\t\",lineterminator=\"\\n\").drop_duplicates()\n",
    "\n",
    "df_merged = pd.merge(df_pred_60k,df_60k,on=[\"Url\",\"UrlTitle\",\"UrlSnippet\",\"FullBody\"])\n",
    "df_merged = df_merged.drop(\"Unnamed: 0\",axis=1)\n",
    "df_merged[\"PositiveProb\"] = df_merged[[\"Prediction\",\"Probability\"]].apply(lambda x:1-x[\"Probability\"] if x[\"Prediction\"]==0 else x[\"Probability\"],axis=1)\n",
    "df_merged = df_merged.drop_duplicates()\n",
    "from sklearn.metrics import precision_recall_curve\n",
    "\n",
    "precision, recall, thresholds = precision_recall_curve(df_merged[\"Label\"], df_merged[\"PositiveProb\"])\n",
    "\n",
    "beta=0.5\n",
    "fbeta = (1 + beta**2) * precision * recall / ((beta**2) * precision + recall + 0.00000000001)\n",
    "index = np.nanargmax(fbeta)\n",
    "\n",
    "print(\"Threshold: \",thresholds[index])\n",
    "print(\"Fbeta: \",fbeta[index])\n",
    "print('auprc: ', average_precision_score(df_merged[\"Label\"], df_merged[\"PositiveProb\"]))\n",
    "print(\"Precision: \",precision[index])\n",
    "print(\"Recall: \",recall[index])\n"
   ]
  },
  {
   "cell_type": "code",
   "execution_count": 81,
   "id": "a66a43a0",
   "metadata": {},
   "outputs": [
    {
     "data": {
      "text/plain": [
       "Index(['Unnamed: 0', 'Url', 'UrlTitle', 'UrlSnippet', 'FullBody', 'Label'], dtype='object')"
      ]
     },
     "execution_count": 81,
     "metadata": {},
     "output_type": "execute_result"
    }
   ],
   "source": [
    "df_60k.columns"
   ]
  },
  {
   "cell_type": "code",
   "execution_count": 82,
   "id": "1d49e92a",
   "metadata": {},
   "outputs": [
    {
     "data": {
      "text/plain": [
       "Index(['Url', 'UrlTitle', 'UrlSnippet', 'FullBody', 'Prediction',\n",
       "       'Probability'],\n",
       "      dtype='object')"
      ]
     },
     "execution_count": 82,
     "metadata": {},
     "output_type": "execute_result"
    }
   ],
   "source": [
    "df_pred_60k.columns"
   ]
  },
  {
   "cell_type": "code",
   "execution_count": 88,
   "id": "3de75961",
   "metadata": {},
   "outputs": [
    {
     "data": {
      "text/plain": [
       "Prediction\n",
       "0    59506\n",
       "1      598\n",
       "Name: count, dtype: int64"
      ]
     },
     "execution_count": 88,
     "metadata": {},
     "output_type": "execute_result"
    }
   ],
   "source": [
    "df_pred_60k.Prediction.value_counts()"
   ]
  },
  {
   "cell_type": "code",
   "execution_count": 16,
   "id": "cc8a55b5",
   "metadata": {},
   "outputs": [
    {
     "data": {
      "text/plain": [
       "<matplotlib.collections.PathCollection at 0x7f2a04ae75e0>"
      ]
     },
     "execution_count": 16,
     "metadata": {},
     "output_type": "execute_result"
    },
    {
     "data": {
      "image/png": "[encoded data removed]",
      "text/plain": [
       "<Figure size 640x480 with 1 Axes>"
      ]
     },
     "metadata": {},
     "output_type": "display_data"
    }
   ],
   "source": [
    "plt.xlabel(\"Recall\")\n",
    "plt.ylabel(\"Precision\")\n",
    "plt.title(\"Precision-Recall curve 60k Mixtral\")\n",
    "plt.plot(recall,precision)\n",
    "plt.scatter(recall[index], precision[index], marker='o', color='black', label='Best')"
   ]
  },
  {
   "cell_type": "markdown",
   "id": "00b02d2c",
   "metadata": {},
   "source": [
    "### Calculating metrics 8k"
   ]
  },
  {
   "cell_type": "code",
   "execution_count": 44,
   "id": "0c1c9604",
   "metadata": {},
   "outputs": [
    {
     "name": "stdout",
     "output_type": "stream",
     "text": [
      "Threshold:  0.7310157\n",
      "Fbeta:  0.4012345678905655\n",
      "auprc:  0.3509176690098609\n",
      "Precision:  0.4642857142857143\n",
      "Recall:  0.26\n"
     ]
    }
   ],
   "source": [
    "# df_pred_8k = pd.read_csv(\"/data/local/IndexQuality/FinetuneLLM/FullTrain/Llama3_O1_A3_crowd_data_low_lr/8k_2500_dataset_prediction_file_1.tsv\",sep=\"\\t\")\n",
    "# df_pred_8k = pd.read_csv(\"/cosmos/local/IndexQuality/FinetuneLLM/FullTrainTest/Mixtral_7B_ym/8k_2500_dataset_prediction_file_1.tsv\",sep=\"\\t\")\n",
    "# df_pred_8k = pd.read_csv(\"/cosmos/local/IndexQuality/FinetuneLLM/FullTrainTest/Mixtral_7B_fulldata_finetuned_ym_bs_10/8k_with_flipped_labels.tsv_2700.tsv\",sep=\"\\t\")  # count: 8472\n",
    "# df_pred_8k = pd.read_csv(\"/cosmos/local/IndexQuality/FinetuneLLM/FullTrainTest/Mixtral_New_ym_bs_10_test/model_1900/8k_with_flipped_labels.tsv_1900.tsv\",sep=\"\\t\")  # count: 8472\n",
    "# df_pred_8k = pd.read_csv(\"/cosmos/local/IndexQuality/FinetuneLLM/FullTrainTest/Mixtral_New_ym_bs_10_test_v4/current_best_2200/8k_with_flipped_labels.tsv_2200.tsv\",sep=\"\\t\")  # count: 8472\n",
    "df_pred_8k = pd.read_csv(\"/cosmos/local/IndexQuality/FinetuneLLM/FullTrainTest/mixtral_crowd_master_label_v1/current_best_3600/8k_with_flipped_labels_escape.tsv_new_scrapekr_expected_label_3600.tsv\",sep=\"\\t\")  # count: 8472\n",
    "\n",
    "# df_pred_8k = df_pred_8k[['UrlID', 'Url', 'UrlTitle', 'UrlSnippet', 'FullBody']]\n",
    "\n",
    "# df_8k = pd.read_csv(\"/data/local/IndexQuality/FinetuneLLM/EvaluationSets/8k_with_flipped_labels.tsv\",sep=\"\\t\")\n",
    "df_8k = pd.read_csv(\"/cosmos/local/IndexQuality/FinetuneLLM/EvaluationSets/8k_with_flipped_labels.tsv\",sep=\"\\t\")\n",
    "\n",
    "#df_8k = df_8k.drop(\"Unnamed: 0\",axis=1)\n",
    "\n",
    "# df_merged = pd.merge(df_pred_8k,df_8k[[\"UrlID\",\"Label\"]],on=[\"UrlID\"])\n",
    "# df_merged = pd.merge(df_pred_8k,df_8k[[\"UrlID\",\"Label\"]],on=[\"UrlID\", \"Label\"])\n",
    "df_merged = pd.merge(df_pred_8k,df_8k,on=[\"Url\",\"UrlTitle\",\"UrlSnippet\",\"FullBody\"])\n",
    "df_merged[\"PositiveProb\"] = df_merged[[\"Prediction\",\"Probability\"]].apply(lambda x:1-x[\"Probability\"] if x[\"Prediction\"]==0 else x[\"Probability\"],axis=1)\n",
    "from sklearn.metrics import precision_recall_curve\n",
    "\n",
    "precision, recall, thresholds = precision_recall_curve(df_merged[\"Label\"], df_merged[\"PositiveProb\"])\n",
    "beta=0.5\n",
    "fbeta = (1 + beta**2) * precision * recall / ((beta**2) * precision + recall + 0.00000000001)\n",
    "index = np.nanargmax(fbeta)\n",
    "\n",
    "print(\"Threshold: \",thresholds[index])\n",
    "print(\"Fbeta: \",fbeta[index])\n",
    "print(\"auprc: \", average_precision_score(df_merged[\"Label\"], df_merged[\"PositiveProb\"]))\n",
    "print(\"Precision: \",precision[index])\n",
    "print(\"Recall: \",recall[index])"
   ]
  },
  {
   "cell_type": "code",
   "execution_count": 95,
   "id": "f3e1d1ef",
   "metadata": {},
   "outputs": [
    {
     "data": {
      "text/plain": [
       "8726"
      ]
     },
     "execution_count": 95,
     "metadata": {},
     "output_type": "execute_result"
    }
   ],
   "source": [
    "len(df_merged)"
   ]
  },
  {
   "cell_type": "code",
   "execution_count": 93,
   "id": "4e031957",
   "metadata": {},
   "outputs": [
    {
     "data": {
      "text/plain": [
       "Index(['UrlID', 'Url', 'UrlTitle', 'UrlSnippet', 'FullBody', 'Label'], dtype='object')"
      ]
     },
     "execution_count": 93,
     "metadata": {},
     "output_type": "execute_result"
    }
   ],
   "source": [
    "df_8k.columns"
   ]
  },
  {
   "cell_type": "code",
   "execution_count": 132,
   "id": "3476e6bb",
   "metadata": {},
   "outputs": [
    {
     "data": {
      "text/plain": [
       "<matplotlib.collections.PathCollection at 0x7f98679d20e0>"
      ]
     },
     "execution_count": 132,
     "metadata": {},
     "output_type": "execute_result"
    },
    {
     "data": {
      "image/png": "[encoded data removed]",
      "text/plain": [
       "<Figure size 640x480 with 1 Axes>"
      ]
     },
     "metadata": {},
     "output_type": "display_data"
    }
   ],
   "source": [
    "plt.xlabel(\"Recall\")\n",
    "plt.ylabel(\"Precision\")\n",
    "plt.title(\"Precision-Recall curve 8k dataset Mixtral\")\n",
    "plt.plot(recall,precision)\n",
    "plt.scatter(recall[index], precision[index], marker='o', color='black', label='Best')"
   ]
  },
  {
   "cell_type": "code",
   "execution_count": 98,
   "id": "8ef1caec",
   "metadata": {},
   "outputs": [
    {
     "data": {
      "text/plain": [
       "0.18849896610761724"
      ]
     },
     "execution_count": 98,
     "metadata": {},
     "output_type": "execute_result"
    }
   ],
   "source": []
  },
  {
   "cell_type": "code",
   "execution_count": 99,
   "id": "d5350bff",
   "metadata": {},
   "outputs": [
    {
     "name": "stdout",
     "output_type": "stream",
     "text": [
      "Precision:  0.3855421686746988\n",
      "Recall:  0.1951219512195122\n"
     ]
    }
   ],
   "source": []
  },
  {
   "cell_type": "code",
   "execution_count": null,
   "id": "b5fc45d5",
   "metadata": {},
   "outputs": [],
   "source": []
  }
 ],
 "metadata": {
  "kernelspec": {
   "display_name": "Python 3 (ipykernel)",
   "language": "python",
   "name": "python3"
  },
  "language_info": {
   "codemirror_mode": {
    "name": "ipython",
    "version": 3
   },
   "file_extension": ".py",
   "mimetype": "text/x-python",
   "name": "python",
   "nbconvert_exporter": "python",
   "pygments_lexer": "ipython3",
   "version": "3.10.14"
  }
 },
 "nbformat": 4,
 "nbformat_minor": 5
}
